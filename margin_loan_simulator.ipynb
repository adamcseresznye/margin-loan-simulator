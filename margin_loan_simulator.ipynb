{
 "cells": [
  {
   "cell_type": "code",
   "execution_count": null,
   "id": "1ce053f1-b03a-460a-92f2-3d7da066d758",
   "metadata": {},
   "outputs": [],
   "source": [
    "# Cell 1: Import and Setup\n",
    "import margin_simulator as ms\n",
    "import ipywidgets as widgets\n",
    "from ipywidgets import interactive_output, VBox, HBox, Layout\n",
    "\n",
    "print(\"🚀 Interactive Margin Loan Simulator loaded!\")\n",
    "print(\"📊 Adjust the parameters below to explore different scenarios\")"
   ]
  },
  {
   "cell_type": "code",
   "execution_count": null,
   "id": "596d0c55-33d7-45b2-85ca-bf5fecc8cc6f",
   "metadata": {},
   "outputs": [],
   "source": [
    "# Cell 2: Description\n",
    "description = widgets.HTML(\"\"\"\n",
    "<div style=\"background: #ffffff; padding: 20px; border-radius: 10px; margin: 20px 0; border: 2px solid #e5e7eb; box-shadow: 0 1px 3px rgba(0,0,0,0.1);\">\n",
    "<h3 style=\"color: #1f2937;\">📈 Interactive Margin Loan Simulator</h3>\n",
    "<p style=\"color: #4b5563;\">Explore the evolution of a leveraged portfolio using margin loans. Adjust parameters to see how portfolio growth, interest costs, and margin calls affect your investment strategy.</p>\n",
    "<p style=\"color: #4b5563;\"><strong>💡 Tip:</strong> Get a free Hugging Face token from <a href=\"https://huggingface.co/settings/tokens\" target=\"_blank\" style=\"color: #2563eb;\">huggingface.co/settings/tokens</a> for AI-powered explanations!</p>\n",
    "</div>\n",
    "\"\"\")\n",
    "\n",
    "display(description)"
   ]
  },
  {
   "cell_type": "code",
   "execution_count": null,
   "id": "11b40a87-07ff-4ac5-be73-8927265cb305",
   "metadata": {},
   "outputs": [],
   "source": [
    "# Cell 3: Create Widgets\n",
    "portfolio_slider = widgets.IntSlider(value=100000, min=50000, max=500000, step=10000, description=\"Portfolio\")\n",
    "loan_slider = widgets.IntSlider(value=50000, min=10000, max=300000, step=10000, description=\"Loan\")\n",
    "market_slider = widgets.FloatSlider(value=0.08, min=-0.1, max=0.2, step=0.01, description=\"Market Return\")\n",
    "volatility_slider = widgets.FloatSlider(value=0.15, min=0.0, max=0.5, step=0.01, description=\"Volatility\")\n",
    "dividend_slider = widgets.FloatSlider(value=0.02, min=0.0, max=0.1, step=0.005, description=\"Dividend Yield\")\n",
    "interest_slider = widgets.FloatSlider(value=0.07, min=0.0, max=0.2, step=0.005, description=\"Loan Rate\")\n",
    "years_slider = widgets.IntSlider(value=30, min=5, max=50, step=1, description=\"Years\")\n",
    "contribution_slider = widgets.IntSlider(value=0, min=0, max=50000, step=1000, description=\"Contribution\")\n",
    "withdrawal_slider = widgets.IntSlider(value=0, min=0, max=20000, step=1000, description=\"Withdrawal\")\n",
    "capitalize_checkbox = widgets.Checkbox(value=True, description=\"Capitalize Interest\")\n",
    "max_ltv_slider = widgets.FloatSlider(value=0.5, min=0.0, max=1.0, step=0.05, description=\"Max LTV\")\n",
    "hf_token_input = widgets.Password(value=\"\", description=\"HF Token:\", placeholder=\"Optional: For AI explanations\")\n",
    "\n",
    "# Layout\n",
    "col1 = VBox([portfolio_slider, loan_slider, market_slider, volatility_slider, dividend_slider])\n",
    "col2 = VBox([interest_slider, years_slider, contribution_slider, withdrawal_slider, capitalize_checkbox, max_ltv_slider])\n",
    "col3 = VBox([hf_token_input])\n",
    "controls = HBox([col1, col2, col3], layout=Layout(justify_content='center'))"
   ]
  },
  {
   "cell_type": "code",
   "execution_count": null,
   "id": "e7c05371-9b96-45dd-960e-c984ae532c3a",
   "metadata": {},
   "outputs": [],
   "source": [
    "# Cell 4: Interactive Output\n",
    "out = interactive_output(ms.run_simulation_and_analysis, {\n",
    "    'initial_portfolio': portfolio_slider,\n",
    "    'initial_loan': loan_slider,\n",
    "    'annual_market_return': market_slider,\n",
    "    'annual_volatility': volatility_slider,\n",
    "    'annual_dividend_yield': dividend_slider,\n",
    "    'annual_interest_rate': interest_slider,\n",
    "    'years': years_slider,\n",
    "    'yearly_contribution': contribution_slider,\n",
    "    'yearly_withdrawal': withdrawal_slider,\n",
    "    'capitalize_interest': capitalize_checkbox,\n",
    "    'max_loan_to_value': max_ltv_slider,\n",
    "    'hf_token': hf_token_input\n",
    "})\n",
    "\n",
    "display(controls)\n",
    "display(out)"
   ]
  }
 ],
 "metadata": {
  "kernelspec": {
   "display_name": "Python 3 (ipykernel)",
   "language": "python",
   "name": "python3"
  },
  "language_info": {
   "codemirror_mode": {
    "name": "ipython",
    "version": 3
   },
   "file_extension": ".py",
   "mimetype": "text/x-python",
   "name": "python",
   "nbconvert_exporter": "python",
   "pygments_lexer": "ipython3",
   "version": "3.13.7"
  }
 },
 "nbformat": 4,
 "nbformat_minor": 5
}
