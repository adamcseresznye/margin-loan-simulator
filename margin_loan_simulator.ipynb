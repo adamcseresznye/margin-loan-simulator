{
 "cells": [
  {
   "cell_type": "code",
   "execution_count": null,
   "id": "b9d3b5ec-16fb-4a06-a088-294442165138",
   "metadata": {},
   "outputs": [],
   "source": [
    "import margin_simulator as ms\n",
    "from widgets_layout import description, controls\n",
    "from widgets_layout import portfolio_slider, loan_slider, market_slider, volatility_slider, dividend_slider\n",
    "from widgets_layout import interest_slider, years_slider, contribution_slider, withdrawal_slider, capitalize_checkbox, max_ltv_slider, hf_token_input\n",
    "from ipywidgets import interactive_output\n",
    "\n",
    "print(\"🚀 Interactive Margin Loan Simulator loaded!\")"
   ]
  },
  {
   "cell_type": "code",
   "execution_count": null,
   "id": "7f4a65eb-6db6-40cd-9c81-32c4a6883bb0",
   "metadata": {},
   "outputs": [],
   "source": [
    "out = interactive_output(ms.run_simulation_and_analysis, {\n",
    "    'initial_portfolio': portfolio_slider,\n",
    "    'initial_loan': loan_slider,\n",
    "    'annual_market_return': market_slider,\n",
    "    'annual_volatility': volatility_slider,\n",
    "    'annual_dividend_yield': dividend_slider,\n",
    "    'annual_interest_rate': interest_slider,\n",
    "    'years': years_slider,\n",
    "    'yearly_contribution': contribution_slider,\n",
    "    'yearly_withdrawal': withdrawal_slider,\n",
    "    'capitalize_interest': capitalize_checkbox,\n",
    "    'max_loan_to_value': max_ltv_slider,\n",
    "    'hf_token': hf_token_input\n",
    "})\n",
    "display(description)\n",
    "display(controls)\n",
    "display(out)"
   ]
  },
  {
   "cell_type": "code",
   "execution_count": null,
   "id": "b5c9adcd-811c-4ae0-8b52-d9296fdca584",
   "metadata": {},
   "outputs": [],
   "source": []
  }
 ],
 "metadata": {
  "kernelspec": {
   "display_name": "Python 3 (ipykernel)",
   "language": "python",
   "name": "python3"
  },
  "language_info": {
   "codemirror_mode": {
    "name": "ipython",
    "version": 3
   },
   "file_extension": ".py",
   "mimetype": "text/x-python",
   "name": "python",
   "nbconvert_exporter": "python",
   "pygments_lexer": "ipython3",
   "version": "3.13.7"
  }
 },
 "nbformat": 4,
 "nbformat_minor": 5
}
