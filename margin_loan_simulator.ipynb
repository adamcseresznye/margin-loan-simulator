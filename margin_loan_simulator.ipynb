{
 "cells": [
  {
   "cell_type": "code",
   "execution_count": null,
   "id": "b9d3b5ec-16fb-4a06-a088-294442165138",
   "metadata": {},
   "outputs": [],
   "source": [
    "import margin_simulator as ms\n",
    "from widgets_layout import description, controls\n",
    "from widgets_layout import portfolio_slider, loan_slider, market_slider, volatility_slider, dividend_slider\n",
    "from widgets_layout import interest_slider, years_slider, contribution_slider, withdrawal_slider, capitalize_checkbox, max_ltv_slider, hf_token_input\n",
    "from ipywidgets import interactive_output\n",
    "\n",
    "print(\"🚀 Interactive Margin Loan Simulator loaded!\")\n",
    "\n",
    "from IPython.display import HTML, display\n",
    "display(HTML(\"\"\"\n",
    "<div style=\"background: #ffffff; padding: 15px; border-radius: 8px; margin: 10px 0; border-left: 4px solid #2196f3;\">\n",
    "<h4 style=\"color: #1565c0; margin: 0 0 10px 0;\">📋 Quick Start Guide</h4>\n",
    "<p style=\"margin: 5px 0; color: #424242;\"><strong>Step 1:</strong> Run all cells → <code>Kernel → Restart & Run All</code></p>\n",
    "<p style=\"margin: 5px 0; color: #424242;\"><strong>Step 2:</strong> Adjust sliders below to explore scenarios</p>\n",
    "<p style=\"margin: 5px 0; color: #424242;\"><strong>Step 3:</strong> Add HF token for AI explanations (optional)</p>\n",
    "</div>\n",
    "\"\"\"))"
   ]
  },
  {
   "cell_type": "code",
   "execution_count": null,
   "id": "7f4a65eb-6db6-40cd-9c81-32c4a6883bb0",
   "metadata": {},
   "outputs": [],
   "source": [
    "out = interactive_output(ms.run_simulation_and_analysis, {\n",
    "    'initial_portfolio': portfolio_slider,\n",
    "    'initial_loan': loan_slider,\n",
    "    'annual_market_return': market_slider,\n",
    "    'annual_volatility': volatility_slider,\n",
    "    'annual_dividend_yield': dividend_slider,\n",
    "    'annual_interest_rate': interest_slider,\n",
    "    'years': years_slider,\n",
    "    'yearly_contribution': contribution_slider,\n",
    "    'yearly_withdrawal': withdrawal_slider,\n",
    "    'capitalize_interest': capitalize_checkbox,\n",
    "    'max_loan_to_value': max_ltv_slider,\n",
    "    'hf_token': hf_token_input\n",
    "})\n",
    "display(description)\n",
    "display(controls)\n",
    "display(out)"
   ]
  }
 ],
 "metadata": {
  "kernelspec": {
   "display_name": "Python 3 (ipykernel)",
   "language": "python",
   "name": "python3"
  },
  "language_info": {
   "codemirror_mode": {
    "name": "ipython",
    "version": 3
   },
   "file_extension": ".py",
   "mimetype": "text/x-python",
   "name": "python",
   "nbconvert_exporter": "python",
   "pygments_lexer": "ipython3",
   "version": "3.13.7"
  }
 },
 "nbformat": 4,
 "nbformat_minor": 5
}
