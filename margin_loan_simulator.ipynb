{
 "cells": [
  {
   "cell_type": "code",
   "execution_count": null,
   "id": "b9d3b5ec-16fb-4a06-a088-294442165138",
   "metadata": {},
   "outputs": [],
   "source": [
    "import margin_simulator as ms\n",
    "import widgets_layout as wl \n",
    "from ipywidgets import interactive_output"
   ]
  },
  {
   "cell_type": "code",
   "execution_count": null,
   "id": "7f4a65eb-6db6-40cd-9c81-32c4a6883bb0",
   "metadata": {},
   "outputs": [],
   "source": [
    "out = interactive_output(ms.run_simulation_and_analysis, {\n",
    "    'initial_portfolio': wl.portfolio_slider,\n",
    "    'initial_loan': wl.loan_slider,\n",
    "    'annual_market_return': wl.market_slider,\n",
    "    'annual_volatility': wl.volatility_slider,\n",
    "    'annual_dividend_yield': wl.dividend_slider,\n",
    "    'annual_interest_rate': wl.interest_slider,\n",
    "    'years': wl.years_slider,\n",
    "    'yearly_contribution': wl.contribution_slider,\n",
    "    'yearly_withdrawal': wl.withdrawal_slider,\n",
    "    'capitalize_interest': wl.capitalize_checkbox,\n",
    "    'max_loan_to_value': wl.max_ltv_slider,\n",
    "    'hf_token': wl.hf_token_input\n",
    "})\n",
    "display(wl.description)\n",
    "display(wl.controls)\n",
    "display(out)"
   ]
  }
 ],
 "metadata": {
  "kernelspec": {
   "display_name": "Python 3 (ipykernel)",
   "language": "python",
   "name": "python3"
  },
  "language_info": {
   "codemirror_mode": {
    "name": "ipython",
    "version": 3
   },
   "file_extension": ".py",
   "mimetype": "text/x-python",
   "name": "python",
   "nbconvert_exporter": "python",
   "pygments_lexer": "ipython3",
   "version": "3.13.7"
  }
 },
 "nbformat": 4,
 "nbformat_minor": 5
}
